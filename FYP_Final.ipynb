{
  "nbformat": 4,
  "nbformat_minor": 0,
  "metadata": {
    "colab": {
      "name": "FYP_Final.ipynb",
      "provenance": [],
      "collapsed_sections": []
    },
    "kernelspec": {
      "name": "python3",
      "display_name": "Python 3"
    },
    "language_info": {
      "name": "python"
    },
    "accelerator": "TPU"
  },
  "cells": [
    {
      "cell_type": "code",
      "metadata": {
        "id": "EqPn8myiuXMY",
        "colab": {
          "base_uri": "https://localhost:8080/"
        },
        "outputId": "cba37e81-2e61-4d1c-fe63-237a461cb9f3"
      },
      "source": [
        "from google.colab import drive\n",
        "drive.mount('/content/drive/')\n",
        "\n",
        "# ======= < Basic imports > ==============\n",
        "import nltk\n",
        "import nltk.classify.util\n",
        "import numpy as np\n",
        "import pandas as pd\n",
        "import string\n",
        "import unicodedata\n",
        "import sklearn.datasets,sys,re,timeit\n",
        "import json\n",
        "import argparse\n",
        "import matplotlib.pyplot as plt\n",
        "import seaborn\n",
        "import warnings\n",
        "from bs4 import BeautifulSoup\n",
        "from nltk.tokenize import RegexpTokenizer\n",
        "from tokenize import tokenize, untokenize, NUMBER, STRING, NAME, OP\n",
        "from wordcloud import WordCloud\n",
        "import matplotlib.gridspec as gridspec\n",
        "import itertools\n",
        "import sqlite3\n",
        "import time\n",
        "import sys\n",
        "import gensim\n",
        "import random\n",
        "import keras.backend as K\n",
        "import matplotlib.pyplot as plt\n",
        "import seaborn as sns\n",
        "import time\n",
        "\n",
        "# =========== < End > ===================\n",
        "\n",
        "#========= Classifiers ===========================================\n",
        "from nltk.corpus import names\n",
        "from sklearn import model_selection\n",
        "from sklearn.naive_bayes import MultinomialNB,GaussianNB\n",
        "from sklearn.linear_model import LogisticRegression\n",
        "from sklearn.ensemble  import GradientBoostingClassifier, RandomForestClassifier,VotingClassifier\n",
        "from sklearn.neighbors import KNeighborsClassifier\n",
        "from sklearn.gaussian_process import GaussianProcessClassifier\n",
        "from sklearn.gaussian_process.kernels import RBF\n",
        "from sklearn.tree import DecisionTreeClassifier\n",
        "from sklearn.neural_network import MLPClassifier\n",
        "from sklearn.ensemble import RandomForestClassifier, AdaBoostClassifier,ExtraTreesClassifier,BaggingClassifier\n",
        "from sklearn.discriminant_analysis import QuadraticDiscriminantAnalysis\n",
        "from sklearn.svm import SVC, LinearSVC\n",
        "from sklearn.preprocessing import FunctionTransformer,StandardScaler,LabelEncoder\n",
        "from sklearn.feature_selection import SelectKBest,SelectFromModel,f_regression\n",
        "from sklearn.pipeline import Pipeline,FeatureUnion\n",
        "from sklearn.linear_model import Ridge,Lasso,RidgeClassifier,SGDClassifier\n",
        "from sklearn.utils import shuffle\n",
        "from mlxtend.classifier import EnsembleVoteClassifier\n",
        "from itertools import combinations\n",
        "#from mlens.ensemble import SuperLearner\n",
        "from gensim.models.word2vec import Word2Vec\n",
        "from gensim.models import FastText  \n",
        "#from glove import Corpus, Glove\n",
        "# =========== < End > ===================\n",
        "\n",
        "#========== <Count Vectorization,feature extraction and summaries > ======================\n",
        "from sklearn.pipeline import make_pipeline\n",
        "from sklearn.feature_extraction.text import CountVectorizer,TfidfVectorizer,TfidfTransformer\n",
        "from sklearn.model_selection import  train_test_split,cross_val_score,GridSearchCV\n",
        "from sklearn.metrics import make_scorer, f1_score, accuracy_score, recall_score, precision_score, classification_report, precision_recall_fscore_support\n",
        "from sklearn.model_selection import KFold\n",
        "from sklearn.metrics import confusion_matrix,mean_squared_error,mean_absolute_error\n",
        "# =========== < End > ===================\n",
        "\n",
        "from sklearn.metrics import precision_recall_fscore_support as score\n",
        "from keras.models import Sequential,Model\n",
        "from keras.layers import Conv1D, Dropout, Dense, Flatten, LSTM, MaxPooling1D, Bidirectional,Activation, Input, Embedding,GRU\n",
        "from keras.optimizers import Adam,RMSprop\n",
        "from keras.utils import to_categorical\n",
        "from keras.callbacks import EarlyStopping, TensorBoard\n",
        "from gensim.test.utils import common_texts, get_tmpfile\n",
        "from gensim.models import word2vec,FastText \n",
        "from sklearn.preprocessing import scale\n",
        "from keras.preprocessing import sequence\n",
        "from keras.preprocessing.text import Tokenizer\n",
        "from tqdm import tqdm\n",
        "from collections import Counter"
      ],
      "execution_count": 1,
      "outputs": [
        {
          "output_type": "stream",
          "text": [
            "Mounted at /content/drive/\n"
          ],
          "name": "stdout"
        },
        {
          "output_type": "stream",
          "text": [
            "/usr/local/lib/python3.7/dist-packages/sklearn/externals/six.py:31: FutureWarning: The module is deprecated in version 0.21 and will be removed in version 0.23 since we've dropped support for Python 2.7. Please rely on the official version of six (https://pypi.org/project/six/).\n",
            "  \"(https://pypi.org/project/six/).\", FutureWarning)\n"
          ],
          "name": "stderr"
        }
      ]
    },
    {
      "cell_type": "code",
      "metadata": {
        "id": "7gi7hqBX8gOh"
      },
      "source": [
        "import pickle"
      ],
      "execution_count": 2,
      "outputs": []
    },
    {
      "cell_type": "code",
      "metadata": {
        "id": "BskUGhChvA5d"
      },
      "source": [
        "def RemoveHTMLElementsForDf(inputListDf):\n",
        "        try:\n",
        "            for i in range(len(inputListDf)):\n",
        "                currentPhase= inputListDf['Comments1'].values[i]\n",
        "                inputListDf['Comments1'].values[i] =BeautifulSoup(currentPhase,\"html.parser\").get_text()\n",
        "            \n",
        "            return inputListDf\n",
        "\n",
        "        except Exception as e:        \n",
        "                  e = sys.exc_info()[1]\n",
        "                  fullError=\"RemoveHTMLElementsForDf: \"+str(e)+\"\\n\"\n",
        "                  raise Exception(fullError)"
      ],
      "execution_count": 3,
      "outputs": []
    },
    {
      "cell_type": "code",
      "metadata": {
        "id": "_39-4BQvwMMk"
      },
      "source": [
        " def RemoveNonWordEntriesForDf(inputDf):\n",
        "          try:\n",
        "\n",
        "              nonWordEntryList=[]\n",
        "              #Remove non words\n",
        "              for i in range(len(inputDf)):\n",
        "                  currentPhase= inputDf['Comments1'].values[i]     \n",
        "\n",
        "                  #Then append back after checking for numerical values\n",
        "                  inputDf['Comments1'].values[i]=(' '.join([word for word in currentPhase.split() if word.isdigit()==False]))       \n",
        "\n",
        "              return inputDf     \n",
        "\n",
        "          except Exception as e:\n",
        "                    e = sys.exc_info()[1]\n",
        "                    fullError=\"RemoveNonWordEntriesForDf: \"+str(e)+\"\\n\"\n",
        "                    raise Exception(fullError)"
      ],
      "execution_count": 4,
      "outputs": []
    },
    {
      "cell_type": "code",
      "metadata": {
        "id": "0P5qyQQx9rAz"
      },
      "source": [
        "def RemoveSpecialCharactersForDf(inputListDf,pronounsList):\n",
        "        try:\n",
        "            regex = re.compile('[%s]' % re.escape(string.punctuation))\n",
        "            cleanedList = []\n",
        "           \n",
        "            for i in range(len(inputListDf)):\n",
        "                currentPhrase= inputListDf['Comments1'].values[i]\n",
        "                tokenizedList = []\n",
        "                punctuationSplittedList=[]\n",
        "                punctuationRemovedString = \"\"\n",
        "                for splitPhrase in currentPhrase.split():\n",
        "                    splitPhrase = re.sub('\\@\\w+', '', splitPhrase)\n",
        "                    splitPhrase = re.sub('\\#\\w+','', splitPhrase)\n",
        "                    splitPhrase = re.sub('\\#','',splitPhrase)\n",
        "                    splitPhrase = re.sub('RT','',splitPhrase)\n",
        "                    splitPhrase = re.sub('&amp;','',splitPhrase)\n",
        "                    splitPhrase = re.sub('[0-9]+','',splitPhrase)\n",
        "                    splitPhrase = re.sub('//t.co/\\w+','',splitPhrase)\n",
        "                    splitPhrase = re.sub('w//','',splitPhrase)\n",
        "                    splitPhrase = splitPhrase.lower()\n",
        "                    tokenizedList.append(splitPhrase.split())   \n",
        "                    \n",
        "                for tokenizedElem in tokenizedList:\n",
        "                    punctuation_Removed_Elem=regex.sub('', str(tokenizedElem))\n",
        "                    punctuationSplittedList.append(punctuation_Removed_Elem)\n",
        "                    \n",
        "                                       \n",
        "                for elem in punctuationSplittedList:         \n",
        "                    if  elem not in pronounsList:\n",
        "                        punctuationRemovedString+=(\" \"+elem.lower())\n",
        "                        \n",
        "                        \n",
        "                inputListDf['Comments1'].values[i]=punctuationRemovedString\n",
        "                \n",
        "            return inputListDf\n",
        "\n",
        "        except Exception as e:        \n",
        "            e = sys.exc_info()[1]\n",
        "            fullError=\"RemoveSpecialCharactersForDf: \"+str(e)+\"\\n\"\n",
        "            raise Exception(fullError)\n",
        "            #return fullError"
      ],
      "execution_count": 5,
      "outputs": []
    },
    {
      "cell_type": "code",
      "metadata": {
        "id": "fg1bl9YhxxiT"
      },
      "source": [
        "#setting the data sets \n",
        "trainingDataPath='/content/drive/My Drive/Colab Notebooks/FYP/CommentsRefined.csv'\n",
        "pronounsListPath='/content/drive/My Drive/Colab Notebooks/FYP/Pronouns.csv'\n",
        "trainingData_df= pd.read_csv(trainingDataPath,usecols=[0,1],header='infer',encoding='utf-8')  \n",
        "pronouns_df=pd.read_csv(pronounsListPath,usecols=[0],header=None,encoding='utf-8')            \n",
        "pronounsList=pronouns_df[0].values.tolist()\n"
      ],
      "execution_count": 6,
      "outputs": []
    },
    {
      "cell_type": "code",
      "metadata": {
        "id": "z_Q-9CHuyA9D"
      },
      "source": [
        "htmlCleanedTraining_Df=RemoveHTMLElementsForDf(trainingData_df)\n",
        "specialSymbolCleanedPhrases_Df=RemoveSpecialCharactersForDf(htmlCleanedTraining_Df,pronounsList)\n",
        "speechCleaned_NonWord_Df=RemoveNonWordEntriesForDf(specialSymbolCleanedPhrases_Df)\n",
        "speechCleaned_NonWord_Df=speechCleaned_NonWord_Df.head(801)\n",
        "speechCleaned_NonWord_Df=shuffle(speechCleaned_NonWord_Df)\n",
        "#print(speechCleaned_NonWord_Df)"
      ],
      "execution_count": 7,
      "outputs": []
    },
    {
      "cell_type": "code",
      "metadata": {
        "id": "uVHXwhtuTkXw"
      },
      "source": [
        "# Create classifiers\n",
        "dt=DecisionTreeClassifier(class_weight='balanced', criterion='entropy',\n",
        "                                            max_depth=3, max_features=None, max_leaf_nodes=None,\n",
        "                                            min_impurity_decrease=0.0, min_impurity_split=None,\n",
        "                                            min_samples_leaf=1, min_samples_split=10,\n",
        "                                            min_weight_fraction_leaf=0.0, presort=False, random_state=None,\n",
        "                                            splitter='best')\n",
        "\n",
        "rf = RandomForestClassifier(bootstrap=True, class_weight=None, criterion='entropy',\n",
        "                                            max_depth=3, max_features='sqrt', max_leaf_nodes=None,\n",
        "                                            min_impurity_decrease=0.0, min_impurity_split=None,\n",
        "                                            min_samples_leaf=1, min_samples_split=2,\n",
        "                                            min_weight_fraction_leaf=0.0, n_estimators=200, n_jobs=1,\n",
        "                                            oob_score=False, random_state=0, verbose=0, warm_start=False)\n",
        "\n",
        "ad=AdaBoostClassifier(algorithm='SAMME.R', base_estimator=None,\n",
        "                                      learning_rate=0.05, n_estimators=16, random_state=None)\n",
        "\n",
        "lg=LogisticRegression(C=1.0, class_weight=None, dual=False, fit_intercept=True,\n",
        "                                      intercept_scaling=1, max_iter=100, multi_class='multinomial',\n",
        "                                      n_jobs=1, penalty='l1', random_state=0, solver='saga',\n",
        "                                      tol=0.0001, verbose=0, warm_start=False)"
      ],
      "execution_count": 8,
      "outputs": []
    },
    {
      "cell_type": "code",
      "metadata": {
        "id": "aTTblSto7829"
      },
      "source": [
        "X_train,X_test,Y_train,Y_test = train_test_split(speechCleaned_NonWord_Df.Comments1,speechCleaned_NonWord_Df.isPositive,\n",
        "                                                 test_size=0.2,random_state=5,shuffle=True)"
      ],
      "execution_count": 9,
      "outputs": []
    },
    {
      "cell_type": "code",
      "metadata": {
        "colab": {
          "base_uri": "https://localhost:8080/"
        },
        "id": "l4LlOjem7AjS",
        "outputId": "bd69a1e0-4410-4b7a-865f-e314e93b2885"
      },
      "source": [
        "X_train"
      ],
      "execution_count": 10,
      "outputs": [
        {
          "output_type": "execute_result",
          "data": {
            "text/plain": [
              "202            touch inferior to last carries more fibre\n",
              "700            of a useful style yet needs to be cleaner\n",
              "718                               blackish tending flaky\n",
              "728    greyish uneven spoilt by one or two brown leaf...\n",
              "770                                               shotty\n",
              "                             ...                        \n",
              "721              brownish very mixed spoilt by cut stalk\n",
              "768                                         well twisted\n",
              "209                      carries tips spoilt by red ends\n",
              "361     tending brown spoilt extract occasional red ends\n",
              "59            touch brown contains ragged leaf particles\n",
              "Name: Comments1, Length: 640, dtype: object"
            ]
          },
          "metadata": {
            "tags": []
          },
          "execution_count": 10
        }
      ]
    },
    {
      "cell_type": "code",
      "metadata": {
        "id": "9_hmOnJr6ft6"
      },
      "source": [
        "def vectorize_text(x_train):\n",
        "        token = RegexpTokenizer(r'[a-zA-Z0-9]+')\n",
        "        count_vect = CountVectorizer(analyzer='word', binary=False, decode_error='strict',\n",
        "                                            encoding='utf-8', input='content',\n",
        "                                            lowercase=True, max_df=1.0, max_features=None, min_df=1,\n",
        "                                            ngram_range=(1,2), preprocessor=None, stop_words=None,\n",
        "                                            strip_accents=None,tokenizer=token.tokenize, vocabulary=None)\n",
        "        \n",
        "        x_train_counts = count_vect.fit_transform(x_train)\n",
        "        tf_idf_transformer = TfidfTransformer(use_idf=True, smooth_idf=True, sublinear_tf=True)\n",
        "        x_train_tf_idf = tf_idf_transformer.fit_transform(x_train_counts)\n",
        "        return count_vect,x_train_tf_idf"
      ],
      "execution_count": 13,
      "outputs": []
    },
    {
      "cell_type": "code",
      "metadata": {
        "colab": {
          "base_uri": "https://localhost:8080/"
        },
        "id": "MLvb1KLi-evq",
        "outputId": "6d2467b5-06d2-43ec-be14-b2ca0f2b7767"
      },
      "source": [
        "print(x_train_tf_idf)"
      ],
      "execution_count": 16,
      "outputs": [
        {
          "output_type": "stream",
          "text": [
            "  (0, 231)\t0.14977129647423776\n",
            "  (0, 244)\t0.3595860844661775\n",
            "  (0, 399)\t0.17924846839975117\n",
            "  (0, 511)\t0.2725517832936143\n",
            "  (0, 515)\t0.2861773074288281\n",
            "  (0, 522)\t0.2861773074288281\n",
            "  (0, 524)\t0.382494641017052\n",
            "  (0, 607)\t0.1932268946962914\n",
            "  (0, 614)\t0.34333220492476874\n",
            "  (0, 878)\t0.17267985302511224\n",
            "  (0, 884)\t0.2861773074288281\n",
            "  (0, 894)\t0.18847624462290047\n",
            "  (0, 903)\t0.3595860844661775\n",
            "  (1, 0)\t0.1790696174185192\n",
            "  (1, 15)\t0.23195164668338406\n",
            "  (1, 39)\t0.17196859445112636\n",
            "  (1, 42)\t0.27115753663987624\n",
            "  (1, 272)\t0.24485005948001012\n",
            "  (1, 627)\t0.25245436752077877\n",
            "  (1, 628)\t0.25245436752077877\n",
            "  (1, 650)\t0.1760124913659981\n",
            "  (1, 651)\t0.18925283491436784\n",
            "  (1, 821)\t0.19463787195274226\n",
            "  (1, 837)\t0.3173744941710397\n",
            "  (1, 878)\t0.1915042862754036\n",
            "  :\t:\n",
            "  (637, 877)\t0.4134944645693101\n",
            "  (638, 156)\t0.18057610166685717\n",
            "  (638, 176)\t0.3786027007331095\n",
            "  (638, 323)\t0.2169599263109735\n",
            "  (638, 363)\t0.3010747958589325\n",
            "  (638, 367)\t0.3786027007331095\n",
            "  (638, 640)\t0.221825999453458\n",
            "  (638, 648)\t0.3171632897405858\n",
            "  (638, 746)\t0.235159031502775\n",
            "  (638, 747)\t0.235159031502775\n",
            "  (638, 804)\t0.20087143242932023\n",
            "  (638, 806)\t0.3786027007331095\n",
            "  (638, 846)\t0.18306204701636947\n",
            "  (638, 849)\t0.255723878748062\n",
            "  (639, 156)\t0.22059763636664317\n",
            "  (639, 159)\t0.46251336767605344\n",
            "  (639, 283)\t0.22467761046801443\n",
            "  (639, 293)\t0.37692552496246934\n",
            "  (639, 530)\t0.24980029643074952\n",
            "  (639, 535)\t0.3087067712111716\n",
            "  (639, 684)\t0.24260214365235544\n",
            "  (639, 728)\t0.2846995265648128\n",
            "  (639, 731)\t0.34010168127615115\n",
            "  (639, 894)\t0.22790589273533668\n",
            "  (639, 897)\t0.2822149159182363\n"
          ],
          "name": "stdout"
        }
      ]
    },
    {
      "cell_type": "code",
      "metadata": {
        "colab": {
          "base_uri": "https://localhost:8080/"
        },
        "id": "BKMxxiGO6rSd",
        "outputId": "62bd8462-deae-4b06-c0a0-b6ee0def0b0e"
      },
      "source": [
        "eclf=VotingClassifier(estimators=[('dt', dt), ('rf', rf), ('ad', ad),('lg',lg)], voting='soft')\n",
        "\n",
        "count_vect,x_train_tf_idf=vectorize_text(X_train)            \n",
        "built_classifier = eclf.fit(x_train_tf_idf, Y_train)"
      ],
      "execution_count": 14,
      "outputs": [
        {
          "output_type": "stream",
          "text": [
            "/usr/local/lib/python3.7/dist-packages/sklearn/tree/_classes.py:319: FutureWarning: The parameter 'presort' is deprecated and has no effect. It will be removed in v0.24. You can suppress this warning by not passing any value to the 'presort' parameter.\n",
            "  FutureWarning)\n",
            "/usr/local/lib/python3.7/dist-packages/sklearn/linear_model/_sag.py:330: ConvergenceWarning: The max_iter was reached which means the coef_ did not converge\n",
            "  \"the coef_ did not converge\", ConvergenceWarning)\n"
          ],
          "name": "stderr"
        }
      ]
    },
    {
      "cell_type": "code",
      "metadata": {
        "id": "7Y6wDhsg7ekZ",
        "colab": {
          "base_uri": "https://localhost:8080/"
        },
        "outputId": "4464a7ec-e7e9-44f8-cc66-ed1e7bdfd8b4"
      },
      "source": [
        "built_classifier.score(x_train_tf_idf,Y_train)"
      ],
      "execution_count": null,
      "outputs": [
        {
          "output_type": "execute_result",
          "data": {
            "text/plain": [
              "0.909375"
            ]
          },
          "metadata": {
            "tags": []
          },
          "execution_count": 12
        }
      ]
    },
    {
      "cell_type": "code",
      "metadata": {
        "id": "Q-Gz_heP6yAS"
      },
      "source": [
        "model_path='/content/drive/My Drive/Colab Notebooks/FYP/Ranking_predict_model_new.h5'\n",
        "count_vec_obj_path='/content/drive/My Drive/Colab Notebooks/FYP/countVectorizer.pkl'"
      ],
      "execution_count": null,
      "outputs": []
    },
    {
      "cell_type": "code",
      "metadata": {
        "id": "sAd1rgf_8Pwg"
      },
      "source": [
        "pickle.dump(built_classifier, open(model_path, 'wb'))\n",
        "pickle.dump(count_vect, open(count_vec_obj_path, 'wb'))"
      ],
      "execution_count": null,
      "outputs": []
    },
    {
      "cell_type": "code",
      "metadata": {
        "id": "jJ5mzgxa8cRs"
      },
      "source": [
        "clf_for_prediction=pickle.load(open(model_path, 'rb'))\n",
        "count_vect=pickle.load(open(count_vec_obj_path, 'rb'))"
      ],
      "execution_count": null,
      "outputs": []
    },
    {
      "cell_type": "code",
      "metadata": {
        "id": "KCE4F791CvnR"
      },
      "source": [
        "def vectorize_text_for_test(x_test):\n",
        "  x_test_counts = count_vect.transform(x_test)\n",
        "  tf_idf_transformer = TfidfTransformer(use_idf=True, smooth_idf=True, sublinear_tf=True)\n",
        "  x_test_tf_idf = tf_idf_transformer.fit_transform(x_test_counts)\n",
        "  return x_test_tf_idf"
      ],
      "execution_count": null,
      "outputs": []
    },
    {
      "cell_type": "code",
      "metadata": {
        "id": "SqdMRfCjMouG"
      },
      "source": [
        ""
      ],
      "execution_count": null,
      "outputs": []
    },
    {
      "cell_type": "code",
      "metadata": {
        "id": "QJe4RqBFEHdZ"
      },
      "source": [
        "x_test = vectorize_text_for_test(X_test)"
      ],
      "execution_count": null,
      "outputs": []
    },
    {
      "cell_type": "code",
      "metadata": {
        "colab": {
          "base_uri": "https://localhost:8080/"
        },
        "id": "DaNTRivp_DyP",
        "outputId": "ff8d3741-e643-48c8-f5c9-d9a3a75eff93"
      },
      "source": [
        "accuracy = clf_for_prediction.score(x_test,Y_test)\n",
        "print(\"accuracy :\",accuracy)"
      ],
      "execution_count": null,
      "outputs": [
        {
          "output_type": "stream",
          "text": [
            "accuracy : 0.91875\n"
          ],
          "name": "stdout"
        }
      ]
    },
    {
      "cell_type": "code",
      "metadata": {
        "colab": {
          "base_uri": "https://localhost:8080/"
        },
        "id": "agOPcnHAA3Te",
        "outputId": "439dc01d-da8d-4b0f-f442-a85cb45c7893"
      },
      "source": [
        "pred = clf_for_prediction.predict(x_test)\n",
        "precision = precision_score(Y_test, pred)\n",
        "print('Precision: %f' % precision)\n",
        "# recall: tp / (tp + fn)\n",
        "recall = recall_score(Y_test, pred)\n",
        "print('Recall: %f' % recall)\n",
        "# f1: tp / (tp + fp + fn)\n",
        "f1 = f1_score(Y_test, pred)\n",
        "print('F1 score: %f' % f1)"
      ],
      "execution_count": null,
      "outputs": [
        {
          "output_type": "stream",
          "text": [
            "Precision: 0.897727\n"
          ],
          "name": "stdout"
        }
      ]
    },
    {
      "cell_type": "code",
      "metadata": {
        "colab": {
          "base_uri": "https://localhost:8080/"
        },
        "id": "oKekxPbUA-cl",
        "outputId": "f46bea51-839a-465b-ec5f-cca020065277"
      },
      "source": [
        "matrix = confusion_matrix(Y_test, pred)\n",
        "print(matrix)"
      ],
      "execution_count": null,
      "outputs": [
        {
          "output_type": "stream",
          "text": [
            "[[68  9]\n",
            " [ 4 79]]\n"
          ],
          "name": "stdout"
        }
      ]
    },
    {
      "cell_type": "code",
      "metadata": {
        "colab": {
          "base_uri": "https://localhost:8080/",
          "height": 282
        },
        "id": "9zbhmT8MBwY9",
        "outputId": "66fd73f3-2ff8-4b49-acd2-d27f7c8e54d1"
      },
      "source": [
        "import seaborn as sns\n",
        "sns.heatmap(matrix, annot=True)"
      ],
      "execution_count": null,
      "outputs": [
        {
          "output_type": "execute_result",
          "data": {
            "text/plain": [
              "<matplotlib.axes._subplots.AxesSubplot at 0x7fea627f1510>"
            ]
          },
          "metadata": {
            "tags": []
          },
          "execution_count": 21
        },
        {
          "output_type": "display_data",
          "data": {
            "image/png": "[encoded data removed]",
            "text/plain": [
              "<Figure size 432x288 with 2 Axes>"
            ]
          },
          "metadata": {
            "tags": [],
            "needs_background": "light"
          }
        }
      ]
    },
    {
      "cell_type": "code",
      "metadata": {
        "colab": {
          "base_uri": "https://localhost:8080/",
          "height": 282
        },
        "id": "aAcYwOyKDQx_",
        "outputId": "729a55f1-0f8c-4d7e-e9c7-cec94a00c6a7"
      },
      "source": [
        "group_names = [\"True Negative\",\"False Positive\",\"False Negative\",\"True Posiive\"]\n",
        "group_counts = [\"{0:0.0f}\".format(value) for value in matrix.flatten()]\n",
        "group_percentages = [\"{0:.2%}\".format(value) for value in\n",
        "                     matrix.flatten()/np.sum(matrix)]\n",
        "labels = [f\"{v1}\\n{v2}\\n{v3}\" for v1, v2, v3 in\n",
        "          zip(group_names,group_counts,group_percentages)]\n",
        "labels = np.asarray(labels).reshape(2,2)\n",
        "sns.heatmap(matrix, annot=labels, fmt=\"\", cmap=\"Blues\")"
      ],
      "execution_count": null,
      "outputs": [
        {
          "output_type": "execute_result",
          "data": {
            "text/plain": [
              "<matplotlib.axes._subplots.AxesSubplot at 0x7fea598eaad0>"
            ]
          },
          "metadata": {
            "tags": []
          },
          "execution_count": 22
        },
        {
          "output_type": "display_data",
          "data": {
            "image/png": "[encoded data removed]",
            "text/plain": [
              "<Figure size 432x288 with 2 Axes>"
            ]
          },
          "metadata": {
            "tags": [],
            "needs_background": "light"
          }
        }
      ]
    },
    {
      "cell_type": "code",
      "metadata": {
        "id": "0wD3F3SnCT96"
      },
      "source": [
        "# roc curve and auc\n",
        "from sklearn.datasets import make_classification\n",
        "from sklearn.linear_model import LogisticRegression\n",
        "from sklearn.model_selection import train_test_split\n",
        "from sklearn.metrics import roc_curve\n",
        "from sklearn.metrics import roc_auc_score\n",
        "from matplotlib import pyplot"
      ],
      "execution_count": null,
      "outputs": []
    },
    {
      "cell_type": "code",
      "metadata": {
        "colab": {
          "base_uri": "https://localhost:8080/",
          "height": 313
        },
        "id": "47TJuGvFCcVS",
        "outputId": "92f35ff5-1904-4e14-c039-5cf3b5ff5186"
      },
      "source": [
        "# predict probabilities\n",
        "lr_probs = clf_for_prediction.predict_proba(x_test)\n",
        "# keep probabilities for the positive outcome only\n",
        "lr_probs = lr_probs[:, 1]\n",
        "# generate a no skill prediction (majority class)\n",
        "ns_probs = [0 for _ in range(len(Y_test))]\n",
        "# calculate scores\n",
        "ns_auc = roc_auc_score(Y_test, ns_probs)\n",
        "lr_auc = roc_auc_score(Y_test, lr_probs)\n",
        "# summarize scores\n",
        "print('No Skill: ROC AUC=%.3f' % (ns_auc))\n",
        "print('Logistic: ROC AUC=%.3f' % (lr_auc))\n",
        "# calculate roc curves\n",
        "ns_fpr, ns_tpr, _ = roc_curve(Y_test, ns_probs)\n",
        "lr_fpr, lr_tpr, _ = roc_curve(Y_test, lr_probs)\n",
        "# plot the roc curve for the model\n",
        "pyplot.plot(ns_fpr, ns_tpr, linestyle='--', label='No Skill')\n",
        "pyplot.plot(lr_fpr, lr_tpr, marker='.', label='Logistic')\n",
        "# axis labels\n",
        "pyplot.xlabel('False Positive Rate')\n",
        "pyplot.ylabel('True Positive Rate')\n",
        "# show the legend\n",
        "pyplot.legend()\n",
        "# show the plot\n",
        "pyplot.show()"
      ],
      "execution_count": null,
      "outputs": [
        {
          "output_type": "stream",
          "text": [
            "No Skill: ROC AUC=0.500\n",
            "Logistic: ROC AUC=0.962\n"
          ],
          "name": "stdout"
        },
        {
          "output_type": "display_data",
          "data": {
            "image/png": "[encoded data removed]",
            "text/plain": [
              "<Figure size 432x288 with 1 Axes>"
            ]
          },
          "metadata": {
            "tags": [],
            "needs_background": "light"
          }
        }
      ]
    },
    {
      "cell_type": "code",
      "metadata": {
        "colab": {
          "base_uri": "https://localhost:8080/"
        },
        "id": "6F3yhh-vBLru",
        "outputId": "2b182e79-62fb-4a23-b1f4-09736a0b5973"
      },
      "source": [
        "report = classification_report(Y_test, pred)\n",
        "print(report)"
      ],
      "execution_count": null,
      "outputs": [
        {
          "output_type": "stream",
          "text": [
            "              precision    recall  f1-score   support\n",
            "\n",
            "           0       0.94      0.88      0.91        77\n",
            "           1       0.90      0.95      0.92        83\n",
            "\n",
            "    accuracy                           0.92       160\n",
            "   macro avg       0.92      0.92      0.92       160\n",
            "weighted avg       0.92      0.92      0.92       160\n",
            "\n"
          ],
          "name": "stdout"
        }
      ]
    },
    {
      "cell_type": "code",
      "metadata": {
        "id": "EF8_wSr7ESw3"
      },
      "source": [
        "result = clf_for_prediction.predict(x_test)"
      ],
      "execution_count": null,
      "outputs": []
    },
    {
      "cell_type": "code",
      "metadata": {
        "id": "5JeHuIejEYOu"
      },
      "source": [
        "df = pd.DataFrame(X_test)\n",
        "df.insert(1, \"Predicion\", result, True)"
      ],
      "execution_count": null,
      "outputs": []
    },
    {
      "cell_type": "code",
      "metadata": {
        "colab": {
          "base_uri": "https://localhost:8080/",
          "height": 419
        },
        "id": "yLzvKVLkEjjy",
        "outputId": "efdc3222-60c7-4905-a241-095b20967223"
      },
      "source": [
        "df"
      ],
      "execution_count": null,
      "outputs": [
        {
          "output_type": "execute_result",
          "data": {
            "text/html": [
              "<div>\n",
              "<style scoped>\n",
              "    .dataframe tbody tr th:only-of-type {\n",
              "        vertical-align: middle;\n",
              "    }\n",
              "\n",
              "    .dataframe tbody tr th {\n",
              "        vertical-align: top;\n",
              "    }\n",
              "\n",
              "    .dataframe thead th {\n",
              "        text-align: right;\n",
              "    }\n",
              "</style>\n",
              "<table border=\"1\" class=\"dataframe\">\n",
              "  <thead>\n",
              "    <tr style=\"text-align: right;\">\n",
              "      <th></th>\n",
              "      <th>Comments1</th>\n",
              "      <th>Predicion</th>\n",
              "    </tr>\n",
              "  </thead>\n",
              "  <tbody>\n",
              "    <tr>\n",
              "      <th>283</th>\n",
              "      <td>should be more twisted even to advantage</td>\n",
              "      <td>1</td>\n",
              "    </tr>\n",
              "    <tr>\n",
              "      <th>346</th>\n",
              "      <td>brownish stalky</td>\n",
              "      <td>0</td>\n",
              "    </tr>\n",
              "    <tr>\n",
              "      <th>408</th>\n",
              "      <td>greyish carries ragged leaf</td>\n",
              "      <td>0</td>\n",
              "    </tr>\n",
              "    <tr>\n",
              "      <th>786</th>\n",
              "      <td>blackish heavy</td>\n",
              "      <td>1</td>\n",
              "    </tr>\n",
              "    <tr>\n",
              "      <th>255</th>\n",
              "      <td>fairly wiry however could be more even</td>\n",
              "      <td>1</td>\n",
              "    </tr>\n",
              "    <tr>\n",
              "      <th>...</th>\n",
              "      <td>...</td>\n",
              "      <td>...</td>\n",
              "    </tr>\n",
              "    <tr>\n",
              "      <th>527</th>\n",
              "      <td>brownish stalky mixed</td>\n",
              "      <td>0</td>\n",
              "    </tr>\n",
              "    <tr>\n",
              "      <th>1</th>\n",
              "      <td>little leafy mixed inf fair liq possess fair c...</td>\n",
              "      <td>0</td>\n",
              "    </tr>\n",
              "    <tr>\n",
              "      <th>342</th>\n",
              "      <td>blackish mixed with fgs particles</td>\n",
              "      <td>0</td>\n",
              "    </tr>\n",
              "    <tr>\n",
              "      <th>747</th>\n",
              "      <td>brownish powdery carries some fibre inf fair l...</td>\n",
              "      <td>0</td>\n",
              "    </tr>\n",
              "    <tr>\n",
              "      <th>267</th>\n",
              "      <td>wiry should be more even carries short particles</td>\n",
              "      <td>1</td>\n",
              "    </tr>\n",
              "  </tbody>\n",
              "</table>\n",
              "<p>160 rows × 2 columns</p>\n",
              "</div>"
            ],
            "text/plain": [
              "                                             Comments1  Predicion\n",
              "283           should be more twisted even to advantage          1\n",
              "346                                    brownish stalky          0\n",
              "408                        greyish carries ragged leaf          0\n",
              "786                                     blackish heavy          1\n",
              "255             fairly wiry however could be more even          1\n",
              "..                                                 ...        ...\n",
              "527                              brownish stalky mixed          0\n",
              "1    little leafy mixed inf fair liq possess fair c...          0\n",
              "342                  blackish mixed with fgs particles          0\n",
              "747  brownish powdery carries some fibre inf fair l...          0\n",
              "267   wiry should be more even carries short particles          1\n",
              "\n",
              "[160 rows x 2 columns]"
            ]
          },
          "metadata": {
            "tags": []
          },
          "execution_count": 28
        }
      ]
    },
    {
      "cell_type": "code",
      "metadata": {
        "id": "wBkF4jx7NZkX"
      },
      "source": [
        "!pip install flask-ngrok"
      ],
      "execution_count": null,
      "outputs": []
    },
    {
      "cell_type": "code",
      "metadata": {
        "id": "6VRf-rvXMMWl",
        "colab": {
          "base_uri": "https://localhost:8080/",
          "height": 367
        },
        "outputId": "f7de5630-0659-4c01-f9f1-5c80c42e1408"
      },
      "source": [
        "import os\n",
        "import shutil\n",
        "\n",
        "from flask import Flask, flash, request, redirect, render_template\n",
        "from werkzeug.utils import secure_filename\n",
        "from flask import Flask, session\n",
        "from fastai.vision import *\n",
        "from flask_ngrok import run_with_ngrok\n",
        "\n",
        "\n",
        "basedir = '/content/drive/My Drive/Colab Notebooks/FYP/'\n",
        "\n",
        "UPLOAD_FOLDER = os.path.join('Static', 'csv')\n",
        "\n",
        "app = Flask(__name__)\n",
        "run_with_ngrok(app)   \n",
        "\n",
        "app.secret_key = \"secret key\"\n",
        "app.config['UPLOAD_FOLDER'] = UPLOAD_FOLDER\n",
        "app.config['MAX_CONTENT_LENGTH'] = 16 * 1024 * 1024\n",
        "\n",
        "ALLOWED_EXTENSIONS = set(['csv','xls'])\n",
        "\n",
        "\n",
        "def allowed_file(filename):\n",
        "    return '.' in filename and filename.rsplit('.', 1)[1].lower() in ALLOWED_EXTENSIONS\n",
        "\n",
        "\n",
        "@app.route('/')\n",
        "def upload_form():\n",
        "    return render_template(basedir+'index.html')\n",
        "\n",
        "@app.after_request\n",
        "def add_header(response):\n",
        "    \"\"\"\n",
        "    Add headers to both force latest IE rendering engine or Chrome Frame,\n",
        "    and also to cache the rendered page for 10 minutes.\n",
        "    \"\"\"\n",
        "    response.headers['X-UA-Compatible'] = 'IE=Edge,chrome=1'\n",
        "    response.headers['Cache-Control'] = 'public, max-age=0'\n",
        "    return response    \n",
        "\n",
        "\n",
        "@app.route('/', methods=['POST'])\n",
        "def upload_file():\n",
        "\n",
        "    # shutil.rmtree(UPLOAD_FOLDER)\n",
        "    # os.mkdir(UPLOAD_FOLDER)\n",
        "    disp_div = 'none'\n",
        "    disp_div_tumor = 'none'\n",
        "\n",
        "    d = request.form.to_dict()\n",
        "    # print(\"dddd;\",d)\n",
        "    button_name = 'None'\n",
        "    if (len(d)!=0):\n",
        "        button_name = list(d.items())[-1][0]\n",
        "\n",
        "    file = request.files['file']\n",
        "    print(\"file:\",file)\n",
        "    if file.filename == '':\n",
        "        flash('No file selected for uploading','red')\n",
        "        # return redirect(request.url)\n",
        "        return render_template(basedir+'index.html', disp_div = disp_div)\n",
        "    if file and allowed_file(file.filename):\n",
        "        filename = secure_filename(file.filename)\n",
        "        shutil.rmtree(UPLOAD_FOLDER)\n",
        "        os.mkdir(UPLOAD_FOLDER)\n",
        "        file.save(os.path.join(app.config['UPLOAD_FOLDER'], filename))\n",
        "        flash('File successfully uploaded!', 'green')\n",
        "        print(UPLOAD_FOLDER)\n",
        "        print(\"==>\",os.path.join(UPLOAD_FOLDER, sorted(os.listdir(app.config['UPLOAD_FOLDER']))[0]))\n",
        "        csv_file = pd.read_csv(os.path.join(UPLOAD_FOLDER, sorted(os.listdir(app.config['UPLOAD_FOLDER']))[0]))\n",
        "        csv_shape = csv_file.shape\n",
        "\n",
        "        return render_template(basedir+'index.html', csv_shape=csv_shape)\n",
        "        # return redirect('/')\n",
        "    else:\n",
        "        flash('Allowed file types are txt, pdf, png, jpg, jpeg, gif', 'red')\n",
        "        # return redirect(request.url)\n",
        "        return render_template(basedir+'index.html')\n",
        "\n",
        "\n",
        "if __name__ == '__main__':\n",
        "    app.run()\n",
        "\n",
        "## For deploying the app use `app.run(debug=False, host=\"0.0.0.0\", port=80)`"
      ],
      "execution_count": null,
      "outputs": [
        {
          "output_type": "error",
          "ename": "ModuleNotFoundError",
          "evalue": "ignored",
          "traceback": [
            "\u001b[0;31m---------------------------------------------------------------------------\u001b[0m",
            "\u001b[0;31mModuleNotFoundError\u001b[0m                       Traceback (most recent call last)",
            "\u001b[0;32m<ipython-input-29-7d9cde97d28f>\u001b[0m in \u001b[0;36m<module>\u001b[0;34m()\u001b[0m\n\u001b[1;32m      6\u001b[0m \u001b[0;32mfrom\u001b[0m \u001b[0mflask\u001b[0m \u001b[0;32mimport\u001b[0m \u001b[0mFlask\u001b[0m\u001b[0;34m,\u001b[0m \u001b[0msession\u001b[0m\u001b[0;34m\u001b[0m\u001b[0;34m\u001b[0m\u001b[0m\n\u001b[1;32m      7\u001b[0m \u001b[0;32mfrom\u001b[0m \u001b[0mfastai\u001b[0m\u001b[0;34m.\u001b[0m\u001b[0mvision\u001b[0m \u001b[0;32mimport\u001b[0m \u001b[0;34m*\u001b[0m\u001b[0;34m\u001b[0m\u001b[0;34m\u001b[0m\u001b[0m\n\u001b[0;32m----> 8\u001b[0;31m \u001b[0;32mfrom\u001b[0m \u001b[0mflask_ngrok\u001b[0m \u001b[0;32mimport\u001b[0m \u001b[0mrun_with_ngrok\u001b[0m\u001b[0;34m\u001b[0m\u001b[0;34m\u001b[0m\u001b[0m\n\u001b[0m\u001b[1;32m      9\u001b[0m \u001b[0;34m\u001b[0m\u001b[0m\n\u001b[1;32m     10\u001b[0m \u001b[0;34m\u001b[0m\u001b[0m\n",
            "\u001b[0;31mModuleNotFoundError\u001b[0m: No module named 'flask_ngrok'",
            "",
            "\u001b[0;31m---------------------------------------------------------------------------\u001b[0;32m\nNOTE: If your import is failing due to a missing package, you can\nmanually install dependencies using either !pip or !apt.\n\nTo view examples of installing some common dependencies, click the\n\"Open Examples\" button below.\n\u001b[0;31m---------------------------------------------------------------------------\u001b[0m\n"
          ]
        }
      ]
    },
    {
      "cell_type": "code",
      "metadata": {
        "id": "Xj-zC3PBMobz"
      },
      "source": [
        ""
      ],
      "execution_count": null,
      "outputs": []
    }
  ]
}